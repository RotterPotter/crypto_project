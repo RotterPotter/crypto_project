{
 "cells": [
  {
   "cell_type": "code",
   "execution_count": 1,
   "id": "5597bf48",
   "metadata": {},
   "outputs": [],
   "source": [
    "import requests\n",
    "import os\n",
    "import dotenv"
   ]
  },
  {
   "cell_type": "code",
   "execution_count": null,
   "id": "359b5037",
   "metadata": {},
   "outputs": [
    {
     "name": "stdout",
     "output_type": "stream",
     "text": [
      "200\n"
     ]
    },
    {
     "data": {
      "text/plain": [
       "{'data': {'address': '0x7b04e9e469e088aa773d629372d94b177ee993cd',\n",
       "  'updated_at': '2025-07-07T17:06:34.259479815Z',\n",
       "  'next_update_at': '2025-07-07T17:11:34.259480355Z',\n",
       "  'quote_currency': 'USD',\n",
       "  'chain_id': 1,\n",
       "  'chain_name': 'eth-mainnet',\n",
       "  'chain_tip_height': 22868697,\n",
       "  'chain_tip_signed_at': '2025-07-07T17:05:59Z',\n",
       "  'items': [{'contract_decimals': 18,\n",
       "    'contract_name': 'Ether',\n",
       "    'contract_ticker_symbol': 'ETH',\n",
       "    'contract_address': '0xeeeeeeeeeeeeeeeeeeeeeeeeeeeeeeeeeeeeeeee',\n",
       "    'supports_erc': None,\n",
       "    'logo_url': 'https://www.datocms-assets.com/86369/1669619533-ethereum.png',\n",
       "    'contract_display_name': 'Ether',\n",
       "    'logo_urls': {'token_logo_url': 'https://logos.covalenthq.com/tokens/1/0xeeeeeeeeeeeeeeeeeeeeeeeeeeeeeeeeeeeeeeee.png',\n",
       "     'protocol_logo_url': None,\n",
       "     'chain_logo_url': 'https://www.datocms-assets.com/86369/1669653891-eth.svg'},\n",
       "    'last_transferred_at': '2025-07-07T15:36:11Z',\n",
       "    'block_height': 22868251,\n",
       "    'native_token': True,\n",
       "    'type': 'cryptocurrency',\n",
       "    'is_spam': False,\n",
       "    'balance': '26224122343440',\n",
       "    'balance_24h': '0',\n",
       "    'quote_rate': 2523.03,\n",
       "    'quote_rate_24h': 2562.4,\n",
       "    'quote': 0.06616425,\n",
       "    'pretty_quote': '$0.07',\n",
       "    'quote_24h': 0.0,\n",
       "    'pretty_quote_24h': '$0.00',\n",
       "    'protocol_metadata': None,\n",
       "    'nft_data': None},\n",
       "   {'contract_decimals': 18,\n",
       "    'contract_name': 'ETH',\n",
       "    'contract_ticker_symbol': 'ETH',\n",
       "    'contract_address': '0x7341f9359936f011ddfdc5af6687523bceb2a90e',\n",
       "    'supports_erc': ['erc20'],\n",
       "    'logo_url': 'https://logos.covalenthq.com/tokens/1/0x7341f9359936f011ddfdc5af6687523bceb2a90e.png',\n",
       "    'contract_display_name': 'ETH',\n",
       "    'logo_urls': {'token_logo_url': 'https://logos.covalenthq.com/tokens/1/0x7341f9359936f011ddfdc5af6687523bceb2a90e.png',\n",
       "     'protocol_logo_url': None,\n",
       "     'chain_logo_url': 'https://www.datocms-assets.com/86369/1669653891-eth.svg'},\n",
       "    'last_transferred_at': '2025-07-07T15:36:47Z',\n",
       "    'block_height': 22868254,\n",
       "    'native_token': False,\n",
       "    'type': 'cryptocurrency',\n",
       "    'is_spam': False,\n",
       "    'balance': '20658054709024735861088593473644395882351031958305760140333572032505871765980',\n",
       "    'balance_24h': '0',\n",
       "    'quote_rate': None,\n",
       "    'quote_rate_24h': None,\n",
       "    'quote': None,\n",
       "    'pretty_quote': None,\n",
       "    'quote_24h': None,\n",
       "    'pretty_quote_24h': None,\n",
       "    'protocol_metadata': None,\n",
       "    'nft_data': None}],\n",
       "  'pagination': None},\n",
       " 'error': False,\n",
       " 'error_message': None,\n",
       " 'error_code': None}"
      ]
     },
     "execution_count": 11,
     "metadata": {},
     "output_type": "execute_result"
    }
   ],
   "source": [
    "import os\n",
    "import dotenv\n",
    "import requests\n",
    "from datetime import datetime, timedelta\n",
    "\n",
    "dotenv.load_dotenv()\n",
    "api_key = os.getenv(\"GOLDRUSH_API_KEY\")\n",
    "wallet = \"0x7b04e9e469e088Aa773d629372D94B177ee993CD\"\n",
    "chain_id = 1  # Ethereum Mainnet\n",
    "\n",
    "# Optional: filter by block height or date later in your code\n",
    "url = f\"https://api.covalenthq.com/v1/{chain_id}/address/{wallet}/transactions_v2/?key={api_key}&page-size=10000\"\n",
    "\n",
    "res = requests.get(url)\n",
    "data = res.json()\n",
    "\n",
    "# Filter by 6-month date range in Python\n",
    "six_months_ago = datetime.utcnow() - timedelta(days=180)\n",
    "txs_last_6_months = [\n",
    "    tx for tx in data['data']['items']\n",
    "    if datetime.strptime(tx['block_signed_at'], \"%Y-%m-%dT%H:%M:%SZ\") >= six_months_ago\n",
    "]\n",
    "\n",
    "print(f\"Found {len(txs_last_6_months)} transactions in the last 6 months.\")\n"
   ]
  },
  {
   "cell_type": "code",
   "execution_count": null,
   "id": "5944a9ba",
   "metadata": {},
   "outputs": [],
   "source": []
  }
 ],
 "metadata": {
  "kernelspec": {
   "display_name": "crypto-project-py3.12",
   "language": "python",
   "name": "python3"
  },
  "language_info": {
   "codemirror_mode": {
    "name": "ipython",
    "version": 3
   },
   "file_extension": ".py",
   "mimetype": "text/x-python",
   "name": "python",
   "nbconvert_exporter": "python",
   "pygments_lexer": "ipython3",
   "version": "3.12.0"
  }
 },
 "nbformat": 4,
 "nbformat_minor": 5
}
